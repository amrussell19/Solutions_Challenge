{
 "cells": [
  {
   "cell_type": "code",
   "execution_count": 20,
   "id": "fe50076d-4d36-4f9b-a80f-6d89b7dc87f8",
   "metadata": {},
   "outputs": [],
   "source": [
    "#listing the imports I was playing with trying to solve the issue.\n",
    "\n",
    "import numpy as np       # I used numpy with alternate cleaning methods, such as adding NaN values, but ended up opting to set everything to NULL instead\n",
    "import pandas as pd      # pandas was used to view the data as DataFrame and remove all unnecessary columns\n",
    "import csv               # for csv reader\n",
    "import requests          # to fire API GET request"
   ]
  },
  {
   "cell_type": "code",
   "execution_count": 21,
   "id": "3d31e208-fe38-4879-9e52-017fcf5de240",
   "metadata": {},
   "outputs": [],
   "source": [
    "# read desired csv containing the pixel tab and set df as specifically the impression_pixel_column\n",
    "\n",
    "tacticFile = pd.read_csv('C:/Users/a.russell/Documents/TL_exercise/Solutions_Assessment_Data_2021_tl_tactic.csv')\n",
    "df = pd.DataFrame(tacticFile, columns= ['impression_pixel_json'])"
   ]
  },
  {
   "cell_type": "code",
   "execution_count": 22,
   "id": "09427715-1eb7-4b7a-8eaf-2a2574b56dbc",
   "metadata": {},
   "outputs": [],
   "source": [
    "# remove any gaps in the data and set them as NULL\n",
    "\n",
    "df.replace('[]', 'NULL', inplace=True)\n",
    "df.fillna('NULL', inplace=True)\n",
    "\n",
    "#then remove all NULL values from the pixel list column as cleandf\n",
    "\n",
    "cleandf = df[df[\"impression_pixel_json\"].str.contains(\"NULL\")==False]"
   ]
  },
  {
   "cell_type": "code",
   "execution_count": 25,
   "id": "97b9b79a-e167-49f8-b745-fa4a38cf2a6c",
   "metadata": {},
   "outputs": [
    {
     "data": {
      "text/html": [
       "<div>\n",
       "<style scoped>\n",
       "    .dataframe tbody tr th:only-of-type {\n",
       "        vertical-align: middle;\n",
       "    }\n",
       "\n",
       "    .dataframe tbody tr th {\n",
       "        vertical-align: top;\n",
       "    }\n",
       "\n",
       "    .dataframe thead th {\n",
       "        text-align: right;\n",
       "    }\n",
       "</style>\n",
       "<table border=\"1\" class=\"dataframe\">\n",
       "  <thead>\n",
       "    <tr style=\"text-align: right;\">\n",
       "      <th></th>\n",
       "      <th>impression_pixel_json</th>\n",
       "    </tr>\n",
       "  </thead>\n",
       "  <tbody>\n",
       "    <tr>\n",
       "      <th>0</th>\n",
       "      <td>[\"https:\\/\\/ad.doubleclick.net\\/ddm\\/ad\\/N7676...</td>\n",
       "    </tr>\n",
       "    <tr>\n",
       "      <th>1</th>\n",
       "      <td>[\"https:\\/\\/ad.doubleclick.net\\/ddm\\/trackimp\\...</td>\n",
       "    </tr>\n",
       "    <tr>\n",
       "      <th>4</th>\n",
       "      <td>[\"https:\\/\\/ad.atdmt.com\\/i\\/img;p=11142202536...</td>\n",
       "    </tr>\n",
       "    <tr>\n",
       "      <th>6</th>\n",
       "      <td>[\"https:\\/\\/voken.eyereturn.com\\/pix?1132530\"]</td>\n",
       "    </tr>\n",
       "    <tr>\n",
       "      <th>7</th>\n",
       "      <td>[\"https:\\/\\/t.mookie1.com\\/t\\/v1\\/imp?migAgenc...</td>\n",
       "    </tr>\n",
       "    <tr>\n",
       "      <th>...</th>\n",
       "      <td>...</td>\n",
       "    </tr>\n",
       "    <tr>\n",
       "      <th>24897</th>\n",
       "      <td>[\"https:\\/\\/ad.doubleclick.net\\/ddm\\/trackimp\\...</td>\n",
       "    </tr>\n",
       "    <tr>\n",
       "      <th>24898</th>\n",
       "      <td>[\"https:\\/\\/rover.ebay.com\\/ar\\/1\\/711-219464-...</td>\n",
       "    </tr>\n",
       "    <tr>\n",
       "      <th>24899</th>\n",
       "      <td>[\"http:\\/\\/googo.com\"]</td>\n",
       "    </tr>\n",
       "    <tr>\n",
       "      <th>24904</th>\n",
       "      <td>[\"https:\\/\\/ad.doubleclick.net\\/ddm\\/ad\\/N7088...</td>\n",
       "    </tr>\n",
       "    <tr>\n",
       "      <th>24905</th>\n",
       "      <td>[\"http:\\/\\/nypi.dc-storm.com\\/dcv4\\/logi.aspx?...</td>\n",
       "    </tr>\n",
       "  </tbody>\n",
       "</table>\n",
       "<p>17747 rows × 1 columns</p>\n",
       "</div>"
      ],
      "text/plain": [
       "                                   impression_pixel_json\n",
       "0      [\"https:\\/\\/ad.doubleclick.net\\/ddm\\/ad\\/N7676...\n",
       "1      [\"https:\\/\\/ad.doubleclick.net\\/ddm\\/trackimp\\...\n",
       "4      [\"https:\\/\\/ad.atdmt.com\\/i\\/img;p=11142202536...\n",
       "6         [\"https:\\/\\/voken.eyereturn.com\\/pix?1132530\"]\n",
       "7      [\"https:\\/\\/t.mookie1.com\\/t\\/v1\\/imp?migAgenc...\n",
       "...                                                  ...\n",
       "24897  [\"https:\\/\\/ad.doubleclick.net\\/ddm\\/trackimp\\...\n",
       "24898  [\"https:\\/\\/rover.ebay.com\\/ar\\/1\\/711-219464-...\n",
       "24899                             [\"http:\\/\\/googo.com\"]\n",
       "24904  [\"https:\\/\\/ad.doubleclick.net\\/ddm\\/ad\\/N7088...\n",
       "24905  [\"http:\\/\\/nypi.dc-storm.com\\/dcv4\\/logi.aspx?...\n",
       "\n",
       "[17747 rows x 1 columns]"
      ]
     },
     "execution_count": 25,
     "metadata": {},
     "output_type": "execute_result"
    }
   ],
   "source": [
    "# Have a look at results\n",
    "cleandf"
   ]
  },
  {
   "cell_type": "code",
   "execution_count": 6,
   "id": "09871d1a-7d95-486f-9ccf-0b4a7f20b2f4",
   "metadata": {},
   "outputs": [
    {
     "name": "stdout",
     "output_type": "stream",
     "text": [
      "<Response [200]>\n"
     ]
    }
   ],
   "source": [
    "# I could not decipher how to fire all URL's from impression_pixel_json list. I scoured the internet for relevant documentation but was either overlooking it, or it's simply not easy to locate.\n",
    "# After having to abandon that, I wanted to at least show I'm aware of how to make a GET call and print a response\n",
    "\n",
    "response = requests.get(\"http://track.adform.net/adfserve/?bn=470000;1x1inv=triplelift;srctype=3;ord=57932\")\n",
    "print(response)\n"
   ]
  },
  {
   "cell_type": "code",
   "execution_count": 7,
   "id": "5d76f0bf-f99f-49c0-b5cd-a5d012b8d6c7",
   "metadata": {},
   "outputs": [],
   "source": [
    "# Write API Results to CSV. I could not get this to work as intended and the script merely generates a blank csv\n",
    "with open('C:/Users/a.russell/Documents/TL_exercise/API_response.csv', 'wb') as csvFile:\n",
    "    writer = csv.writer(csvFile, delimiter=',')"
   ]
  },
  {
   "cell_type": "code",
   "execution_count": 26,
   "id": "64f688f6-b74b-4f19-a04f-dec0895624e9",
   "metadata": {},
   "outputs": [
    {
     "data": {
      "text/plain": [
       "impression_pixel_json    object\n",
       "dtype: object"
      ]
     },
     "execution_count": 26,
     "metadata": {},
     "output_type": "execute_result"
    }
   ],
   "source": [
    "df.dtypes"
   ]
  }
 ],
 "metadata": {
  "kernelspec": {
   "display_name": "Python 3",
   "language": "python",
   "name": "python3"
  },
  "language_info": {
   "codemirror_mode": {
    "name": "ipython",
    "version": 3
   },
   "file_extension": ".py",
   "mimetype": "text/x-python",
   "name": "python",
   "nbconvert_exporter": "python",
   "pygments_lexer": "ipython3",
   "version": "3.8.8"
  }
 },
 "nbformat": 4,
 "nbformat_minor": 5
}
